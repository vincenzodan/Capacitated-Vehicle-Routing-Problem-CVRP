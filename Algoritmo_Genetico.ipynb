{
 "cells": [
  {
   "cell_type": "markdown",
   "metadata": {
    "id": "FpDQuNcMSXJq"
   },
   "source": [
    "# Euristica 2\n",
    "il codice che segue risolve il CVRP tramite l'utilizzo di un **algoritmo genetico**.   \n",
    "\n",
    "La **popolazione iniziale**  è un insieme di soluzioni candidate (chiamate individui o cromosomi) generate all'inizio del processo evolutivo. Queste soluzioni rappresentano possibili risposte al problema che l'algoritmo cerca di risolvere. La qualità di queste soluzioni iniziali può influenzare la velocità e l'efficacia con cui l'algoritmo trova la soluzione ottimale.\n",
    "\n",
    "\n",
    "La funzione **crossover** serve a combinare due soluzioni esistenti (genitori) per crearne di nuove (figli). è una delle operazioni principali negli algoritmi genetici e aiuta a esplorare nuove parti dello spazio delle soluzioni combinando tratti di soluzioni già esistenti."
   ]
  },
  {
   "cell_type": "markdown",
   "metadata": {
    "id": "04BXqGoYnKBy"
   },
   "source": [
    "### Lettura dati da file"
   ]
  },
  {
   "cell_type": "code",
   "execution_count": 1,
   "metadata": {
    "id": "FRXu1VmpvL8u",
    "scrolled": false
   },
   "outputs": [
    {
     "data": {
      "image/png": "[encoded data removed]",
      "text/plain": [
       "<Figure size 640x480 with 1 Axes>"
      ]
     },
     "metadata": {},
     "output_type": "display_data"
    }
   ],
   "source": [
    "import numpy as np\n",
    "\n",
    "filename = \"test_instances/A-n32-k5\"\n",
    "#filename = \"test_instances/P-n45-k5\"\n",
    "#filename = \"test_instances/A-n62-k8\" \n",
    "#filename = \"test_instances/A-n80-k10\" \n",
    "#filename = \"test_instances/P-n101-k4\" \n",
    "\n",
    "#Lettura soluzione\n",
    "\n",
    "file_sol = open(filename + \".sol\", \"r\")\n",
    "line_sol = file_sol.readlines()\n",
    "\n",
    "rowInd = 0\n",
    "\n",
    "while not line_sol[rowInd].startswith(\"Cost\"):\n",
    "        rowInd =  rowInd + 1\n",
    "\n",
    "solution_cost = int(line_sol[rowInd].split()[1])\n",
    "\n",
    "file = open(filename + \".vrp\", \"r\")\n",
    "line = file.readlines()\n",
    "\n",
    "k = int(filename[-1])\n",
    "coordinates = {}\n",
    "\n",
    "\n",
    "demands = {}\n",
    "\n",
    "rowInd = 0\n",
    "while not line[rowInd].startswith(\"EOF\"):\n",
    "    if line[rowInd].startswith(\"DIMENSION\") :\n",
    "        n = int(line[rowInd].split()[2])\n",
    "        rowInd =  rowInd + 1\n",
    "    elif line[rowInd].startswith(\"CAPACITY\") :\n",
    "        Q = int(line[rowInd].split()[2])\n",
    "        rowInd =  rowInd + 1\n",
    "    elif line[rowInd].startswith(\"NODE_COORD_SECTION\") :\n",
    "        rowInd =  rowInd + 1\n",
    "        for i in range(n):\n",
    "            coordinates[int(line[rowInd].split()[0]) - 1] = (int(line[rowInd].split()[1]), int(line[rowInd].split()[2]))\n",
    "            rowInd = rowInd + 1\n",
    "    elif line[rowInd].startswith(\"DEMAND_SECTION\") :\n",
    "        rowInd =  rowInd + 1\n",
    "        for i in range(n):\n",
    "            demands[int(line[rowInd].split()[0]) - 1] = (int(line[rowInd].split()[1]))\n",
    "            rowInd = rowInd + 1\n",
    "    else:\n",
    "        rowInd =  rowInd + 1\n",
    "\n",
    "distance_matrix = {}\n",
    "\n",
    "for i in range(n):\n",
    "    for j in range(n):\n",
    "            # Calcola la distanza euclidea tra i punti i e j\n",
    "            dist = np.sqrt((coordinates[i][0] - coordinates[j][0])**2 +\n",
    "                           (coordinates[i][1] - coordinates[j][1])**2)\n",
    "            # Assegna la distanza alla matrice delle distanze\n",
    "            distance_matrix[i, j] = dist\n",
    "\n",
    "#plot dell'instaza\n",
    "import matplotlib.pyplot as plt\n",
    "plt.scatter(coordinates[0][0], coordinates[0][1], c='r', marker='s', label='Depot')\n",
    "for i in range(1,n):\n",
    "    if i == 1:  # Specifica l'etichetta solo per il primo punto\n",
    "     plt.scatter(coordinates[i][0], coordinates[i][1], c='b', label='Customers')\n",
    "    else:\n",
    "        plt.scatter(coordinates[i][0], coordinates[i][1], c='b')\n",
    "\n",
    "    plt.title(filename)\n",
    "    plt.xlabel('X Coordinate')\n",
    "    plt.ylabel('Y Coordinate')\n",
    "    # Aggiungere la legenda fuori dalla figura\n",
    "    plt.legend(loc='upper left', bbox_to_anchor=(1, 1))"
   ]
  },
  {
   "cell_type": "markdown",
   "metadata": {
    "id": "_E6ANjMwnNZA"
   },
   "source": [
    "### Funzioni per la stampa dei risultati"
   ]
  },
  {
   "cell_type": "code",
   "execution_count": 2,
   "metadata": {
    "id": "KlD0-C5aQSBG"
   },
   "outputs": [],
   "source": [
    "import matplotlib.pyplot as plt\n",
    "import time\n",
    "\n",
    "def plot_routes(routes, coordinates):\n",
    "\n",
    "    plt.figure(figsize=(10, 8))\n",
    "\n",
    "    i=1\n",
    "    # Disegna ogni rotta\n",
    "\n",
    "    for route in routes.values():\n",
    "\n",
    "        x_coords = [coordinates[node][0] for node in route]\n",
    "        y_coords = [coordinates[node][1] for node in route]\n",
    "\n",
    "        plt.plot(x_coords, y_coords, marker='o', label='Route'+str(i))\n",
    "        plt.legend(loc='upper left', bbox_to_anchor=(1, 1))\n",
    "        i=i+1\n",
    "\n",
    "    plt.plot(coordinates[0][0], coordinates[0][1], c='r', marker='s', markersize=7)\n",
    "    plt.scatter(coordinates[0][0], coordinates[0][1], c='r', marker='s', label='Depot')\n",
    "    '''\n",
    "    # Disegna i nodi\n",
    "    for idx, (x, y) in enumerate(coordinates.values()):\n",
    "        if idx == 0:\n",
    "                plt.scatter(coordinates[0][0], coordinates[0][1], c='r', marker='s', label='Depot')\n",
    "        else:\n",
    "            plt.scatter(x, y, c='red')\n",
    "            plt.text(x, y, f'{idx}', fontsize=12, ha='right')\n",
    "    '''\n",
    "    plt.xlabel('X Coordinate')\n",
    "    plt.ylabel('Y Coordinate')\n",
    "    plt.title('Vehicle Routes')\n",
    "    plt.legend(loc='upper left', bbox_to_anchor=(1, 1))\n",
    "    #plt.grid()\n",
    "    plt.show()\n",
    "\n",
    "def print_results(routes, coordinates):\n",
    "\n",
    "    time = end - start\n",
    "    cost = 0\n",
    "    cost_p = 0\n",
    "    demand_p = 0\n",
    "    print(\"\\n\")\n",
    "    print(\"=\"*50+\"\\033[1m Routes \\033[0m\"+\"=\"*50)\n",
    "    print(\"\\n\")\n",
    "    j=1\n",
    "    for elem in routes:\n",
    "        #print(\"\\n\")\n",
    "        print(f\"Route {j}: \\t{routes[elem]}\")\n",
    "        #print(routes[elem])\n",
    "        #print(sum(demands[node] for node in routes[elem]))\n",
    "        j = j+1\n",
    "        route = routes[elem]\n",
    "        for i in range(len(route)-1):\n",
    "            cost = cost + distance_matrix[route[i],route[i+1]]\n",
    "            cost_p = cost_p + distance_matrix[route[i],route[i+1]]\n",
    "            demand_p = demand_p + demands[route[i]]\n",
    "        print(f\"Cost: \\t\\t{cost_p:.2f}\")\n",
    "        print(f\"Demand: \\t{demand_p}\\n\")\n",
    "        cost_p = 0\n",
    "        demand_p = 0\n",
    "\n",
    "    gap = (abs(cost-solution_cost)/solution_cost)*100\n",
    "    print(\"=\"*120)\n",
    "    print(f\"\\033[1m\\nTotal Cost: \\t{cost:.2f}\\033[0m\")\n",
    "    print(f\"\\033[1mTotal Time: \\t{time:.2f}\\033[0m\")\n",
    "    print(f\"\\033[1mGap: \\t\\t{gap:.2f}%\\033[0m\")\n",
    "\n",
    "    plot_routes(routes, coordinates)"
   ]
  },
  {
   "cell_type": "markdown",
   "metadata": {
    "id": "znoLfp3tSlHP"
   },
   "source": [
    "## Euristiche per definire la popolazione iniziale\n"
   ]
  },
  {
   "cell_type": "code",
   "execution_count": 3,
   "metadata": {
    "id": "cZUfr3p2_E2e"
   },
   "outputs": [],
   "source": [
    "import numpy as np\n",
    "\n",
    "def Clarke_and_Wright_1(savings,Q,demands,n):                                   #la funzione ora prende in ingresso la lista dei risparmi\n",
    "\n",
    "    # Costruzione delle rotte\n",
    "    routes = {i: [i] for i in range(1, n)}                                      #inizializza una rotta per ogni nodo\n",
    "    capacities = {i: demands[i] for i in range(1, n)}                           #capacità corrente di ciascuna rotta\n",
    "    assigned_vehicles = {i: i for i in range(1, n)}                             #mappa ogni nodo al veicolo assegnato\n",
    "\n",
    "    # Unisci le rotte basate sui risparmi\n",
    "    for s, i, j in savings:\n",
    "        if i in assigned_vehicles and j in assigned_vehicles:                   #se i e j sono assegnati\n",
    "            if assigned_vehicles[i] != assigned_vehicles[j]:                    #se i e j sono assegnati a veicoli diversi\n",
    "                vehicle_i = assigned_vehicles[i]                                #identifico il veicolo assegnato a i\n",
    "                vehicle_j = assigned_vehicles[j]                                #identifico il veicolo assegnato a j\n",
    "                if vehicle_i in routes and vehicle_j in routes:                 #verifico che i veicoli vehicle_i e vehicle_j abbiano delle rotte associate\n",
    "                    route_i = routes[vehicle_i]                                 #recupero le rotte dei veicoli\n",
    "                    route_j = routes[vehicle_j]\n",
    "                    if capacities[vehicle_i] + capacities[vehicle_j] <= Q:      #verifico se l'unione delle rotte rispetta la capacità del veicolo\n",
    "                        if route_i[-1] == i and route_j[0] == j:                #verifico se le rotte possono essere concatenate\n",
    "                            routes[vehicle_i] = route_i + route_j               #combino route_i e route_j assegnando la nuova rotta a vehicle_i\n",
    "                            capacities[vehicle_i] += capacities[vehicle_j]      #aggiungo la capacità di vehicle_j a quella di vehicle_i\n",
    "                            for node in route_j:                                #assegno tutti i nodi di route_j a vehicle_i\n",
    "                                assigned_vehicles[node] = vehicle_i\n",
    "                            del routes[vehicle_j]                               #rimuovo vehicle_j da routes e capacities\n",
    "                            del capacities[vehicle_j]\n",
    "\n",
    "    #inserisco il nodo deposito in tutte le rotte\n",
    "    for i in routes:\n",
    "        route = routes[i]\n",
    "        route.insert(0, 0)\n",
    "        route.append(0)\n",
    "        routes[i] = route\n",
    "\n",
    "    return routes,assigned_vehicles"
   ]
  },
  {
   "cell_type": "code",
   "execution_count": 4,
   "metadata": {
    "id": "3055cTxw_Kjc"
   },
   "outputs": [],
   "source": [
    "def Nearest_Neighbor(distance_matrix, demands, vehicle_capacity,n):\n",
    "\n",
    "    routes = {}\n",
    "    visited = set() #tiene traccia dei nodi visitati\n",
    "    key = 0         #indice per le rotte dei veicoli\n",
    "    depot = 0\n",
    "\n",
    "    for v in range(1, n):                     #itera attraverso tutti i nodi escluso il deposito\n",
    "        if v not in visited:                  #se il nodo corrente non è stato ancora visitato\n",
    "            current_route = [depot]           #viene creata una nuova rotta a partire dal deposito\n",
    "            current_load = demands[depot]     #inizializzo il carico alla domanda del deposito\n",
    "\n",
    "            while current_load + demands[v] <= vehicle_capacity:  #itera finché la somma delle domande della rotta corrente più la domanda del nodo v è minore o uguale alla capacità del veicolo\n",
    "                current_route.append(v)                           #aggiungo il nodo corrente alla rotta corrente\n",
    "                visited.add(v)                                    # .. e alla lista dei nodi visitati\n",
    "                current_load += demands[v]                        #aggiorno il carico del veicolo con la domanda del nodo\n",
    "\n",
    "                # Trovo il più vicino nodo non visitato\n",
    "                min_distance = float('inf')                             #inizializza la distanza minima a infinito\n",
    "                nearest_node = None                                     #..e il nodo più vicino a None\n",
    "                for u in range(n):                                      #itero su tutti i nodi\n",
    "                    if u not in visited and u != v and u!= depot:       #se u non è stato visitato, non è il nodo corrente e non è il deposito\n",
    "                        if distance_matrix[v, u] < min_distance:        #se la distanza tra u e v è minore di min_distance\n",
    "                            min_distance = distance_matrix[v, u]        #aggiorno min distance\n",
    "                            nearest_node = u                            #aggiono nearest node\n",
    "\n",
    "                if nearest_node is None:\n",
    "                    break\n",
    "\n",
    "                v = nearest_node              #imposto il nodo corrente al nodo trovato\n",
    "\n",
    "            current_route.append(depot)       #aggiungo il deposito alla rotta\n",
    "            routes[key] = current_route       #memorizzo il percorso nel dizionario con la chiave corrente\n",
    "            key += 1                          #aggiorno la chiave\n",
    "\n",
    "    return routes"
   ]
  },
  {
   "cell_type": "code",
   "execution_count": 5,
   "metadata": {
    "id": "_LGEwXQk_EBQ"
   },
   "outputs": [],
   "source": [
    "def Clarke_Wright_fusion(routes,distance_matrix,demands,Q,assigned_vehicles, k):\n",
    "\n",
    "    while len(routes) > k:    #Continua finché il numero di rotte è maggiore di k\n",
    "        # Trovo le due rotte con i costi di combinazione minimi\n",
    "        best_savings = None\n",
    "        best_i, best_j = None, None\n",
    "        for i in routes:        #per ogni coppia di rotte i!=j\n",
    "            for j in routes:\n",
    "                if i != j:\n",
    "                    # Calcolo i risparmi per combinare le rotte i e j\n",
    "                    route_i = routes[i]\n",
    "                    route_j = routes[j]\n",
    "                    #stavolta  Il risparmio è calcolato come la differenza tra il costo di inviare il veicolo dal penultimo nodo di route_i\n",
    "                    #al deposito e poi dal deposito al primo nodo di route_j meno il costo diretto dall'ultimo nodo di route_i al primo nodo di route_j\n",
    "                    saving = distance_matrix[route_i[-2], 0] + distance_matrix[0, route_j[1]] - distance_matrix[route_i[-2], route_j[1]]\n",
    "                    if best_savings is None or saving > best_savings: #verifica del risparmio\n",
    "                        if sum(demands[node] for node in route_i) + sum(demands[node] for node in route_j) < Q:  #vincolo capacità del veicolo\n",
    "                            best_savings = saving\n",
    "                            best_i = i\n",
    "                            best_j = j\n",
    "        if best_i is not None and best_j is not None:                 #se trovo un risparmio\n",
    "            # Combina le rotte best_i e best_j\n",
    "            routes_best_i = routes[best_i]\n",
    "            routes_best_j = routes[best_j]\n",
    "            routes[best_i] = routes_best_i[:-1] + routes_best_j[1:]   #combino gli ultimi nodi di routes_best_i con i primi nodi di routes_best_j.\n",
    "\n",
    "            for node in routes[best_j]:\n",
    "                assigned_vehicles[node] = best_i                      #Tutti i nodi di routes[best_j] vengono assegnati a best_i.\n",
    "            del routes[best_j]                                        #routes[best_j] viene eliminato dalla lista delle rotte.\n",
    "        else:\n",
    "            break\n",
    "    return routes,assigned_vehicles"
   ]
  },
  {
   "cell_type": "code",
   "execution_count": 6,
   "metadata": {},
   "outputs": [],
   "source": [
    "def three_opt(route, distance_matrix):\n",
    "    n = len(route)\n",
    "    best_route = route\n",
    "    improved = True\n",
    "\n",
    "    while improved:\n",
    "        improved = False\n",
    "        for i in range(1, n - 4):\n",
    "            for j in range(i + 1, n - 3):\n",
    "                for k in range(j + 1, n - 2):\n",
    "                    new_routes = generate_all_3opt_swaps(route, i, j, k)\n",
    "                    for new_route in new_routes:\n",
    "                        if calculate_route_length(new_route, distance_matrix) < calculate_route_length(best_route, distance_matrix):\n",
    "                            best_route = new_route\n",
    "                            improved = True\n",
    "                            route = best_route\n",
    "\n",
    "    return best_route\n",
    "\n",
    "def generate_all_3opt_swaps(route, i, j, k):\n",
    "    # Estrazione dei segmenti dalla rotta originale\n",
    "    seg1 = route[1:i]\n",
    "    seg2 = route[i:j+1]\n",
    "    seg3 = route[j+1:k+1]\n",
    "    seg4 = route[k+1:]\n",
    "    \n",
    "    new_routes = []\n",
    "    \n",
    "    # Non fare nulla\n",
    "    new_routes.append([route[0]] + seg1 + seg2 + seg3 + seg4)\n",
    "    \n",
    "    # Invertire seg2\n",
    "    new_routes.append([route[0]] + seg1 + seg2[::-1] + seg3 + seg4)\n",
    "    \n",
    "    # Invertire seg3\n",
    "    new_routes.append([route[0]] + seg1 + seg2 + seg3[::-1] + seg4)\n",
    "    \n",
    "    # Invertire seg2 e seg3\n",
    "    new_routes.append([route[0]] + seg1 + seg2[::-1] + seg3[::-1] + seg4)\n",
    "    \n",
    "    # Riarrangiare con inversione\n",
    "    new_routes.append([route[0]] + seg1 + seg3 + seg2 + seg4)\n",
    "    \n",
    "    # Un'altra riarrangiamento con inversione\n",
    "    new_routes.append([route[0]] + seg1 + seg3 + seg2[::-1] + seg4)\n",
    "    \n",
    "    # L'ultima permutazione con inversione\n",
    "    new_routes.append([route[0]] + seg1 + seg3[::-1] + seg2 + seg4)\n",
    "    \n",
    "    return new_routes\n",
    "\n",
    "def calculate_route_length(route, distance_matrix):\n",
    "    length = 0\n",
    "    for i in range(len(route) - 1):\n",
    "        length += distance_matrix[route[i], route[i + 1]]\n",
    "    return length\n"
   ]
  },
  {
   "cell_type": "markdown",
   "metadata": {
    "id": "CyjXvCg_R5LU"
   },
   "source": [
    "Il codice seguente definisce una semplice euristica che cerca di trovare una soluzione ammissibile per il problema del veicolo a capacità (CVRP), mescolando i clienti in modo casuale e generando rotte finché non viene trovata una soluzione con esattamente k rotte.\n",
    "\n",
    "Viene utilizzata quando le altre euristiche definite non trovano più soluzioni ammissibili."
   ]
  },
  {
   "cell_type": "code",
   "execution_count": 7,
   "metadata": {
    "id": "qKSIzW4ljMSK"
   },
   "outputs": [],
   "source": [
    "import random\n",
    "\n",
    "def simple_heuristics(demands,k,Q,coordinates,n):\n",
    "  admissible = 0\n",
    "  while admissible == 0:                            #finchè non viene trovata una soluzione ammissibile\n",
    "    routes = {}                                     #inizializzo il dizionario per le rotte\n",
    "    clients_demands = demands.copy()                #conservo una copia delle domande\n",
    "    clients_demands.pop(0)                          #elimino la domanda del nodo deposito\n",
    "    # Converto il dizionario in una lista di tuple\n",
    "    lista_coppie = list(clients_demands.items())\n",
    "\n",
    "    # Mischio la lista di domande\n",
    "    random.shuffle(lista_coppie)\n",
    "\n",
    "    # Ricreare il dizionario con l'ordine mischiato\n",
    "    clients_demands = dict(lista_coppie)\n",
    "\n",
    "    # Calcolo i percorsi in questo modo:\n",
    "    # Creo un percorso finché non riempo la capacità -> se la riempo mi fermo e ne creo un altro\n",
    "    # Se creo k percorsi ed ho inserito tutti i nodi la soluzione è ammissibile\n",
    "    # Altrimenti ripeto l'algoritmo finché non trovo una soluzione ammissibile\n",
    "\n",
    "    cost = 0\n",
    "    route = [0]                                     #inizializzo la rotta con il solo nodo deposito\n",
    "\n",
    "    for client in clients_demands:\n",
    "      demand = clients_demands[client]\n",
    "      if cost + demand <= Q:                        #se l'aggiunta della domanda del cliente non eccede la capacità del veicolo\n",
    "          route.append(client)                      #aggiungo il cliente\n",
    "          cost += demand\n",
    "      else:\n",
    "        route.append(0)                             #altrimenti chiudo la rotta tornando al deposito\n",
    "        routes[len(routes)+1] = route               #memorizzo il percorso\n",
    "        route = [0,client]                          #inizializzo una nuova rotta con il cliente\n",
    "        cost = demand\n",
    "\n",
    "    route = route + [0]                             #chiusura dell'ultima rotta tornando al deposito\n",
    "    routes[len(routes)+1] = route                   #aggiunta della rotta\n",
    "\n",
    "    if len(routes) == k:                            #se ho aggiunto k rotte\n",
    "      admissible = 1                                #la soluzione diventa ammissibile\n",
    "      break\n",
    "  return routes"
   ]
  },
  {
   "cell_type": "markdown",
   "metadata": {
    "id": "_6Cc-mJXf0tj"
   },
   "source": [
    "## **Funzioni di utilità per l'algoritmo genetico**"
   ]
  },
  {
   "cell_type": "markdown",
   "metadata": {
    "id": "UK4XBHTau3sZ"
   },
   "source": [
    "### Fusione di percorsi"
   ]
  },
  {
   "cell_type": "code",
   "execution_count": 8,
   "metadata": {
    "id": "wP_EReG_u4cA"
   },
   "outputs": [],
   "source": [
    "def merge_routes(routes, k):\n",
    "    \n",
    "    while len(routes) > k:\n",
    "        min_cost_increase = float('inf')\n",
    "        merge_idx = (0, 1)\n",
    "        for i in range(len(routes)):\n",
    "            for j in range(i + 1, len(routes)):\n",
    "                merged_route = routes[i] + routes[j][1:]\n",
    "                merged_cost = calculate_total_cost(merged_route, distance_matrix)\n",
    "                original_cost = calculate_total_cost(routes[i], distance_matrix) + calculate_total_cost(routes[j], distance_matrix)\n",
    "                cost_increase = merged_cost - original_cost\n",
    "                if cost_increase < min_cost_increase:\n",
    "                    min_cost_increase = cost_increase\n",
    "                    merge_idx = (i, j)\n",
    "        i, j = merge_idx\n",
    "        routes[i] = routes[i] + routes[j][1:]\n",
    "        del routes[j]\n",
    "    return routes"
   ]
  },
  {
   "cell_type": "markdown",
   "metadata": {
    "id": "vNekUvWqg_Qu"
   },
   "source": [
    "### Popolazione iniziale\n",
    "\n",
    "Le euristiche utilizzate per definire la popolazione iniziale sono *Clarke and Write* e *Nearest Neighbor* ed è stata implementata un'euristica semplice nel caso in cui le precedenti fallissero nel trovare soluzioni ammissibili. Per garantire una popolazione di soluzioni eterogenee, i parametri saving e Q vengono definiti in maniera randomica.  "
   ]
  },
  {
   "cell_type": "code",
   "execution_count": 9,
   "metadata": {
    "id": "qE2a5hhPa-_n"
   },
   "outputs": [],
   "source": [
    "import random\n",
    "\n",
    "def calculate_total_cost(route, distance_matrix):\n",
    "    total_cost = 0\n",
    "    for i in range(len(route) - 1):\n",
    "        total_cost += distance_matrix[route[i], route[i + 1]]\n",
    "    return total_cost\n",
    "\n",
    "#funzione che genera la popolazione iniziale di soluzioni.\n",
    "#La popolazione è una lista di possibili soluzioni (insiemi di percorsi)\n",
    "def initial_population(coordinates, Q, demands, pop_size, k):\n",
    "\n",
    "    population = []\n",
    "    savings = []\n",
    "\n",
    "    #calcolo e ordinamento dei saving\n",
    "    for i in range(1, n):\n",
    "        for j in range(i + 1, n):\n",
    "            s_ij = distance_matrix[0, i] + distance_matrix[0, j] - distance_matrix[i, j]\n",
    "            savings.append((s_ij, i, j))\n",
    "    savings.sort(reverse=True, key=lambda x: x[0])\n",
    "\n",
    "    thresh = int(pop_size/3) + 15                                                   #soglia che definisce un numero di tentativi massimo\n",
    "    i = 0                                                                           #per trovare una soluzione ammissibile, prima di passare ad un'altra euristica\n",
    "\n",
    "    while len(population) < pop_size:\n",
    "        if i < thresh:\n",
    "\n",
    "          first_15 = savings[:15]                                                   #mischio i primi 15 savings\n",
    "          random.shuffle(first_15)\n",
    "          savings[:15] = first_15\n",
    "\n",
    "          Q1 = max(demands)                                                         #adatto la capacità del veicolo per bilanciare i nodi lungo i percorsi\n",
    "          Q1 = random.randint(Q1,min(Q1*2,Q))                                       #la nuova capacità è calcolata randomicamente in un range di valori che va\n",
    "                                                                                    #dalla domanda massima al minimo tra Q1*2 e Q\n",
    "          first_choice = random.randint(0,1)\n",
    "\n",
    "          #randomicamente eseguo l'euristica di Clarke and Write o Nearest Neighbor per generare la popolazione iniziale\n",
    "          if first_choice == 0:\n",
    "              routes, assigned_vehicles = Clarke_and_Wright_1(savings,Q1,demands,n) #fornisce risultati differenti perchè cambiano savings e Q1\n",
    "          else:\n",
    "              routes = Nearest_Neighbor(distance_matrix, demands,Q1,n)              #fornisce risultati differenti perchè cambia Q1\n",
    "              assigned_vehicles = {}\n",
    "              for i in routes:\n",
    "                  route = routes[i]\n",
    "                  for elem in route:\n",
    "                      assigned_vehicles[elem] = i\n",
    "\n",
    "          solution, _ = Clarke_Wright_fusion(routes,distance_matrix,demands,Q,assigned_vehicles, k)\n",
    "\n",
    "          # Conversione da dizionario a lista\n",
    "          lista = []\n",
    "          for sol in solution:\n",
    "              lista.append(solution[sol])\n",
    "          routes = lista\n",
    "\n",
    "          admissibile = 1\n",
    "          for route in routes:\n",
    "              if sum(demands[i] for i in route) > Q or route == [0,0]:  #se la richiesta del percorso eccede la capacità del veicolo\n",
    "                  admissibile = 0                                       #la soluzione non è ammissibile\n",
    "\n",
    "          if admissibile == 1:                                          #se la soluzione è ammissibile\n",
    "            for i in range(len(routes)):                                #la ottimizzo con 3-opt\n",
    "                routes[i] = three_opt(routes[i],distance_matrix)\n",
    "\n",
    "          if len(routes) <= k and admissibile == 1:                     #se è ancora ammissibile che non ne ho ancora trovate k la memorizzo\n",
    "              population.append(routes)\n",
    "          else:\n",
    "            # Caso in cui la soluzione non è ammissibile\n",
    "            i = i + 1\n",
    "        else:\n",
    "          solution = simple_heuristics(demands,k,Q,coordinates,n)       #se non trovo soluzioni ammissibili utilizzo l'euristica semplice definita\n",
    "\n",
    "          # conversione in una lista\n",
    "          lista = []\n",
    "          for sol in solution:\n",
    "              lista.append(solution[sol])\n",
    "          routes = lista\n",
    "\n",
    "          # Ottimizzazione percorsi                                     #dopdichè ottimizzo i percorsi\n",
    "          for i in range(len(routes)):\n",
    "                routes[i] = three_opt(routes[i],distance_matrix)\n",
    "          population.append(routes)\n",
    "\n",
    "    return population"
   ]
  },
  {
   "cell_type": "markdown",
   "metadata": {
    "id": "1qV1snErsJby"
   },
   "source": [
    "### Crossover\n",
    "\n",
    "Questa sezione di codice esegue il crossover tra due soluzioni per generare due nuove soluzioni. La funzione implementa uno scambio di sotto-sequenze tra i percorsi di due figli, garantendo al contempo l'integrità della soluzione, cioè che ogni città venga visitata una volta sola."
   ]
  },
  {
   "cell_type": "code",
   "execution_count": 10,
   "metadata": {
    "id": "Nqm-ctLWsyS0"
   },
   "outputs": [],
   "source": [
    "def crossover(parent1, parent2, k):\n",
    "\n",
    "    #Controllo della lunghezza minima                                                           verifico che le soluzioni dei genitori abbiano abbastanza città per poter eseguire il crossover\n",
    "    min_length = min(len(parent1[0]), len(parent2[0])) - 1\n",
    "    if min_length <= 2:\n",
    "        return parent1, parent2\n",
    "\n",
    "    #Selezione dei punti di crossover\n",
    "    start, end = sorted(random.sample(range(1, min(len(parent1[0]), len(parent2[0])) - 1), 2))  #seleziono randomicamente i punti di crossover\n",
    "\n",
    "    #Creazione dei figli\n",
    "    child1, child2 = [route[:] for route in parent1], [route[:] for route in parent2]           #i figli sono inizializzati come copia esatta dei genitori\n",
    "\n",
    "    #Scambio delle città\n",
    "    for i in range(start, end):                                                                 #start-end definisce il segmento dei cromosomi (percorsi) su cui si applica il crossover\n",
    "        city1, city2 = child1[0][i], child2[0][i]                                               #city1 è la città nel percorso del primo figlio all'indice i\n",
    "\n",
    "        for j in range(len(child1)):\n",
    "            if city2 in child1[j]:                                                              #se city2 è presente in uno dei percorsi di child1, viene sostituita con city1 (e viceversa)\n",
    "                                                                                                #questo assicura che la città city2 non compaia più nel percorso del primo figlio dopo\n",
    "                                                                                                #essere stata sostituita con city1\n",
    "                child1[j][child1[j].index(city2)] = city1\n",
    "            if city1 in child2[j]:\n",
    "                child2[j][child2[j].index(city1)] = city2\n",
    "\n",
    "        child1[0][i], child2[0][i] = city2, city1                                               #le città city1 e city2 vengono scambiate nelle posizioni i dei rispettivi percorsi dei figli.\n",
    "\n",
    "    #Verifica del numero massimo di percorsi                                                    se vengono generati più di k percorsi, questi vengono fusi\n",
    "    if len(child1) > k:\n",
    "        child1 = merge_routes(child1, k)\n",
    "    if len(child2) > k:\n",
    "        child2 = merge_routes(child2, k)\n",
    "\n",
    "    return child1, child2"
   ]
  },
  {
   "cell_type": "markdown",
   "metadata": {
    "id": "fiTG6VJ3s2KG"
   },
   "source": [
    "### Mutazione"
   ]
  },
  {
   "cell_type": "markdown",
   "metadata": {
    "id": "R3vf1N9Csojg"
   },
   "source": [
    "La funzione *mutate* esegue una mutazione su un insieme di percorsi. La mutazione serve a introdurre variazioni casuali nei percorsi che mirano a mantenere la diversità genetica della popolazione durante l'esecuzione dell'algoritmo genetico"
   ]
  },
  {
   "cell_type": "code",
   "execution_count": 11,
   "metadata": {
    "id": "i-aIK7VZhgtp"
   },
   "outputs": [],
   "source": [
    "def mutate(routes, k):\n",
    "\n",
    "    #Controllo della lunghezza dei percorsi\n",
    "    if len(routes) <= 2:                                                                     #se il numero totale di percorsi (routes) è minore o uguale a 2, la funzione termina subito restituendo\n",
    "        return routes                                                                        #i percorsi originali perché con meno di 3 percorsi la mutazione potrebbe non essere significativa.\n",
    "\n",
    "    #Selezione di due percorsi casuali\n",
    "    i, j = random.sample(range(len(routes)), 2)                                              #seleziona due percorsi distinti a caso\n",
    "    route1, route2 = routes[i], routes[j]\n",
    "\n",
    "    #Controllo della lunghezza dei percorsi selezionati\n",
    "    if len(route1) > 2 and len(route2) > 2:                                                  #verifico che entrambi i percorsi selezionati abbiano più di due città per effettuare la mutazione\n",
    "        #Selezione indici casuali nei percorsi\n",
    "        idx1, idx2 = random.randint(1, len(route1) - 2), random.randint(1, len(route2) - 2)  #seleziono un indice casuale in ciascun percorso escludendo deposito e nodo di arrivo\n",
    "        #Scambio elementi\n",
    "        route1[idx1], route2[idx2] = route2[idx2], route1[idx1]                              #scambio gli elementi dei percorsi selezionati agli indici idx1 e idx2\n",
    "\n",
    "    #Controllo numero di percorsi\n",
    "    if len(routes) > k:                                                                      #se ottengo più di k percorsi li fondo\n",
    "        routes = merge_routes(routes, k)\n",
    "\n",
    "    return routes"
   ]
  },
  {
   "cell_type": "markdown",
   "metadata": {
    "id": "R9wLfM9rwcF1"
   },
   "source": [
    "## Tournament Selection\n",
    "\n",
    "Seleziona un individuo (soluzione) dalla popolazione basandosi su un \"torneo\" casuale tra un sottoinsieme di individui. L'individuo con il miglior valore della funzione obiettivo nel torneo viene scelto per la riproduzione."
   ]
  },
  {
   "cell_type": "code",
   "execution_count": 12,
   "metadata": {
    "id": "BC_0CjXAvaE9"
   },
   "outputs": [],
   "source": [
    "def tournament_selection(population, tournament_size):\n",
    "\n",
    "    #Controllo della Dimensione del Torneo\n",
    "    if len(population) < tournament_size:                     #se la dimensione della popolazione è minore della dimensione del torneo\n",
    "        tournament_size = len(population)                     #la dimensione del torneo viene ridotta alla dimensione della popolazione\n",
    "\n",
    "    #Selezione casuale dei partecipanti al torneo\n",
    "    tournament = random.sample(population, tournament_size)   #selezione casuale di un sottoinsieme di individui dalla popolazione\n",
    "\n",
    "    #Calcolo del miglior individuo del torneo\n",
    "    return min(tournament, key=lambda routes: sum(calculate_total_cost(route, distance_matrix) for route in routes))"
   ]
  },
  {
   "cell_type": "markdown",
   "metadata": {
    "id": "7GTkBn4VzQzn"
   },
   "source": [
    "## Ricerca locale\n",
    "\n",
    "La funzione ha lo scopo di migliorare un percorso esistente. Itera su ogni coppia di città nel percorso (esclusi il primo e l'ultimo punto) e crea un nuovo percorso scambiando le posizioni delle due città."
   ]
  },
  {
   "cell_type": "code",
   "execution_count": 13,
   "metadata": {
    "id": "zC75_tKpzRK6"
   },
   "outputs": [],
   "source": [
    "def local_search(route, distance_matrix):\n",
    "\n",
    "    best_route = route\n",
    "    best_cost = calculate_total_cost(route, distance_matrix)\n",
    "    for i in range(1, len(route) - 2):\n",
    "        for j in range(i + 1, len(route) - 1):\n",
    "            new_route = route[:]\n",
    "            new_route[i], new_route[j] = new_route[j], new_route[i]\n",
    "            new_cost = calculate_total_cost(new_route, distance_matrix)\n",
    "            if new_cost < best_cost:\n",
    "                best_route, best_cost = new_route, new_cost\n",
    "\n",
    "    return best_route"
   ]
  },
  {
   "cell_type": "markdown",
   "metadata": {
    "id": "-zLCHDY-g9y9"
   },
   "source": [
    "## **Algoritmo Genetico**\n",
    "\n",
    "L'algoritmo genetico in questa funzione evolve una popolazione di soluzioni attraverso *selezione*, *crossover* e *mutazione*. Mantiene l'élite della popolazione per garantire la qualità della soluzione e utilizza la ricerca locale per  migliorare ulteriormente le soluzioni. L'obiettivo è minimizzare il costo totale dei percorsi rispettando i vincoli di capacità dei veicoli e il numero massimo di veicoli disponibili.\n",
    "\n",
    "Nell'utilizzo dell'euristica è importante valutare un trade-off tra accuratezza e complessità computazionale, settando accuratamente i seguenti parametri:\n",
    "\n",
    "*   ***pop_size***: dimensione della popolazione (numero di soluzioni) iniziale. Di default è impostata a 50.\n",
    "\n",
    "*   ***generations***: numero di generazioni per l'evoluzione dell'algoritmo genetico. Di default è impostata a 10.\n",
    "\n",
    "*   ***mutation_rate***: probabilità di mutazione. Di default è impostata a 0.015.\n",
    "\n",
    "*   ***tournament_size***: dimensione del torneo per la selezione dei genitori. Di default è impostata a 2.\n",
    "\n",
    "\n",
    "\n"
   ]
  },
  {
   "cell_type": "code",
   "execution_count": 14,
   "metadata": {
    "id": "U_DymuFvbpoS"
   },
   "outputs": [],
   "source": [
    "def genetic_algorithm(coordinates, distance_matrix, demands, Q, k, pop_size=50, generations=10, mutation_rate=0.015, tournament_size=2):\n",
    "\n",
    "    #Creazione della popolazione iniziale\n",
    "    population = initial_population(coordinates, Q, demands, pop_size, k)\n",
    "\n",
    "    #Calcolo della miglior soluzione ammissibile iniziale\n",
    "    best_solution = None                                                        #inizializzo best_solution a None e best_cost a infinito.\n",
    "    best_cost = float('inf')\n",
    "    for routes in population:\n",
    "        admissible = 1\n",
    "        cost = 0\n",
    "        for route in routes:\n",
    "            if sum(demands[i] for i in route) > Q:                               #controllo vincolo di capacità\n",
    "                admissible = 0\n",
    "            cost += calculate_total_cost(route, distance_matrix)\n",
    "        if cost < best_cost and admissible:\n",
    "            best_cost = cost\n",
    "            best_solution = routes\n",
    "\n",
    "    #Evoluzione della Popolazione\n",
    "    for generation in range(generations):                                       #per ogni generazione\n",
    "        new_population = []                                                     #creo una popolazione vuota\n",
    "        #Ordino la popolazione corrente in base al costo totale di ogni soluzione\n",
    "        population.sort(key=lambda routes: sum(calculate_total_cost(route, distance_matrix) for route in routes))\n",
    "\n",
    "        # Creo la nuova generazione\n",
    "        new_population.extend(population[:pop_size // 10])                      #mantiene l'élite, cioè il top 10% delle soluzioni ottimali della popolazione corrente, aggiungendole alla nuova popolazione\n",
    "        while len(new_population) < pop_size:\n",
    "\n",
    "            #Selezione dei genitori usando il tournament_selection.\n",
    "            parent1 = tournament_selection(population, tournament_size)\n",
    "            parent2 = tournament_selection(population, tournament_size)\n",
    "\n",
    "            #Generazione dei figli attraverso il crossover\n",
    "            child1, child2 = crossover(parent1, parent2, k)\n",
    "\n",
    "            if parent1 != (child1 or child2) and parent2 != (child1 or child2): # Controllo che siano stati generati dei figli\n",
    "              #Applico la mutazione con una certa probabilità\n",
    "              if random.random() < mutation_rate:\n",
    "                  child1 = mutate(child1, k)\n",
    "              if random.random() < mutation_rate:\n",
    "                  child2 = mutate(child2, k)\n",
    "\n",
    "              #Aggiungo i figli alla nuova popolazione\n",
    "              new_population.append(child1)\n",
    "              new_population.append(child2)\n",
    "\n",
    "        #Aggiornamento della popolazione e Ricerca Locale\n",
    "        population = new_population\n",
    "        for i in range(len(population)):\n",
    "            for j in range(len(population[i])):\n",
    "                #population[i][j] = three_opt(population[i][j], distance_matrix)  #Applica una ricerca locale per migliorare ulteriormente ogni percorso in ogni soluzione della popolazione\n",
    "                population[i][j] = local_search(population[i][j], distance_matrix)  #Applica una ricerca locale per migliorare ulteriormente ogni percorso in ogni soluzione della popolazione\n",
    "\n",
    "        current_cost = best_cost\n",
    "\n",
    "        #Calcolo della nuova soluzione ottima\n",
    "        for routes in population:\n",
    "            admissible = 1\n",
    "            cost = 0\n",
    "            for route in routes:\n",
    "                if sum(demands[i] for i in route) >= Q or route == [0,0]:\n",
    "                    admissible = 0\n",
    "                cost += calculate_total_cost(route, distance_matrix)\n",
    "            if cost < current_cost and admissible:\n",
    "                current_cost = cost\n",
    "                current_best = routes\n",
    "\n",
    "        if current_cost < best_cost:\n",
    "            print(\"Cambio soluzione ottima alla generazione \" + str(generation))\n",
    "            print(f\"Costo attuale: {best_cost:.2f}\")\n",
    "            print(f\"Costo nuova soluzione: {current_cost:.2f}\")\n",
    "            #print(\"Costo attuale: \" + str(best_cost) + \" Costo nuova soluzione: \" + str(current_cost))\n",
    "            best_solution = current_best\n",
    "            best_cost = current_cost\n",
    "            print(\"\\n\")\n",
    "\n",
    "\n",
    "    return best_solution, best_cost"
   ]
  },
  {
   "cell_type": "code",
   "execution_count": 15,
   "metadata": {
    "colab": {
     "base_uri": "https://localhost:8080/"
    },
    "id": "93xYq8VzvXTK",
    "outputId": "fbe0d86f-5cc4-444d-e99e-1ee256636857",
    "scrolled": false
   },
   "outputs": [
    {
     "name": "stdout",
     "output_type": "stream",
     "text": [
      "Cambio soluzione ottima alla generazione 0\n",
      "Costo attuale: 822.75\n",
      "Costo nuova soluzione: 818.32\n",
      "\n",
      "\n",
      "Cambio soluzione ottima alla generazione 1\n",
      "Costo attuale: 818.32\n",
      "Costo nuova soluzione: 802.13\n",
      "\n",
      "\n",
      "\n",
      "\n",
      "==================================================\u001b[1m Routes \u001b[0m==================================================\n",
      "\n",
      "\n",
      "Route 1: \t[0, 12, 1, 7, 16, 30, 0]\n",
      "Cost: \t\t88.51\n",
      "Demand: \t88\n",
      "\n",
      "Route 2: \t[0, 3, 2, 23, 28, 4, 11, 8, 18, 0]\n",
      "Cost: \t\t231.89\n",
      "Demand: \t90\n",
      "\n",
      "Route 3: \t[0, 29, 22, 9, 15, 10, 25, 5, 20, 0]\n",
      "Cost: \t\t236.74\n",
      "Demand: \t91\n",
      "\n",
      "Route 4: \t[0, 14, 24, 27, 0]\n",
      "Cost: \t\t64.04\n",
      "Demand: \t47\n",
      "\n",
      "Route 5: \t[0, 6, 17, 19, 31, 21, 13, 26, 0]\n",
      "Cost: \t\t180.95\n",
      "Demand: \t94\n",
      "\n",
      "========================================================================================================================\n",
      "\u001b[1m\n",
      "Total Cost: \t802.13\u001b[0m\n",
      "\u001b[1mTotal Time: \t6.01\u001b[0m\n",
      "\u001b[1mGap: \t\t2.31%\u001b[0m\n"
     ]
    },
    {
     "data": {
      "image/png": "[encoded data removed]",
      "text/plain": [
       "<Figure size 1000x800 with 1 Axes>"
      ]
     },
     "metadata": {},
     "output_type": "display_data"
    }
   ],
   "source": [
    "import time\n",
    "\n",
    "start = time.time()\n",
    "best_solution, best_cost = genetic_algorithm(coordinates, distance_matrix, demands, Q, k, pop_size = 1000, generations= 20)\n",
    "end = time.time()\n",
    "\n",
    "routes = {}\n",
    "for i in range(len(best_solution)):\n",
    "    routes[i] = best_solution[i]\n",
    "'''\n",
    "gap = ((best_cost - solution_cost) / solution_cost) * 100\n",
    "\n",
    "for i, route in enumerate(best_solution):\n",
    "    print(f\"Route {i+1}: {route}\")\n",
    "\n",
    "print(f\"Total Cost: {best_cost:.2f}\")\n",
    "print(f\"Total Time: {time:.2f}\")\n",
    "print(f\"Gap: {gap:.2f}%\")'''\n",
    "\n",
    "print_results(routes, coordinates)"
   ]
  },
  {
   "cell_type": "code",
   "execution_count": null,
   "metadata": {},
   "outputs": [],
   "source": []
  }
 ],
 "metadata": {
  "colab": {
   "provenance": []
  },
  "kernelspec": {
   "display_name": "env",
   "language": "python",
   "name": "python3"
  },
  "language_info": {
   "codemirror_mode": {
    "name": "ipython",
    "version": 3
   },
   "file_extension": ".py",
   "mimetype": "text/x-python",
   "name": "python",
   "nbconvert_exporter": "python",
   "pygments_lexer": "ipython3",
   "version": "3.12.10"
  }
 },
 "nbformat": 4,
 "nbformat_minor": 1
}
